{
 "cells": [
  {
   "cell_type": "code",
   "execution_count": null,
   "id": "3328c685",
   "metadata": {},
   "outputs": [],
   "source": [
    "import pandas as pd\n",
    "import numpy as np\n",
    "\n"
   ]
  },
  {
   "cell_type": "code",
   "execution_count": null,
   "id": "38dcdbd0",
   "metadata": {},
   "outputs": [],
   "source": [
    "# 1. Carregamento e Harmonização Inicial\n",
    "# -----------------------------------------------------------------\n",
    "\n",
    "# 2019: Delimitador é ponto e vírgula (;)\n",
    "df_2019 = pd.read_csv(\"Divvy_Trips_2019_Q1.csv\", sep=\";\")\n",
    "# 2020: Delimitador é vírgula (,)\n",
    "df_2020 = pd.read_csv(\"Divvy_Trips_2020_Q1.csv\")\n",
    "\n",
    "# Mapeamento de nomes de colunas do 2019 para o padrão do 2020\n",
    "col_map_2019 = {\n",
    "    'viagem_id': 'ride_id',\n",
    "    'inicio_viagem': 'started_at',\n",
    "    'fim_viagem': 'ended_at',\n",
    "    'nome_estacao_inicio_id': 'start_station_name',\n",
    "    'nome_estacao_fim_id': 'end_station_name',\n",
    "    'cliente_tipo': 'member_casual'\n",
    "}\n",
    "\n",
    "# Aplicar o mapeamento e selecionar colunas relevantes (sem info pessoal)\n",
    "df_2019_harmonized - df_2019.rename(columns=col_map_2019).copy()\n",
    "df_2019_harmonized = df_2019_harmonized[['ride_id', 'started_at', 'ended_at', \n",
    "                                         'start_station_name', 'end_station_name', \n",
    "                                         'member_casual']].copy()\n",
    "\n",
    "# Converter 'cliente_tipo'\n",
    "df_2019_harmonized['member_casual'] = df_2019_harmonized['member_casual'].replace({\n",
    "    'Subscriber': 'member',\n",
    "    'Customer': 'casual'    \n",
    "})\n"
   ]
  },
  {
   "cell_type": "code",
   "execution_count": null,
   "id": "98407039",
   "metadata": {},
   "outputs": [],
   "source": []
  }
 ],
 "metadata": {
  "language_info": {
   "name": "python"
  }
 },
 "nbformat": 4,
 "nbformat_minor": 5
}
